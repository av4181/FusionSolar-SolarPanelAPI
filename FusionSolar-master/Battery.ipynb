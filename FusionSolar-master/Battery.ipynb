{
 "cells": [
  {
   "cell_type": "code",
   "execution_count": 1,
   "metadata": {
    "collapsed": true
   },
   "outputs": [
    {
     "name": "stdout",
     "output_type": "stream",
     "text": [
      "x-jymng6dcirrtfwhjqr6n45rvuk09th1dles4aqvztic9ippj5ehghjmp1ehfo8qlo4iqqnbu7so4pi057yledhph3tk8nt44qnfxs7s9kamlk85hs92q05bvqqhdir7w\n"
     ]
    }
   ],
   "source": [
    "from fusionsolar import Client, PandasClient\n",
    "from _login import user, password\n",
    "import pandas as pd"
   ]
  },
  {
   "cell_type": "code",
   "execution_count": 2,
   "outputs": [],
   "source": [
    "date = pd.Timestamp('20230526', tz='Europe/Brussels')\n"
   ],
   "metadata": {
    "collapsed": false
   }
  },
  {
   "cell_type": "code",
   "execution_count": 3,
   "outputs": [],
   "source": [
    "with PandasClient(user_name=user, system_code=password) as client:\n",
    "    sl = client.get_dev_list(station_code=\"\")"
   ],
   "metadata": {
    "collapsed": false
   }
  },
  {
   "cell_type": "code",
   "execution_count": 4,
   "outputs": [
    {
     "data": {
      "text/plain": "{'data': [{'devName': 'Dongle-HV2263544490',\n   'devTypeId': 62,\n   'esnCode': 'HV2263544490',\n   'id': 1000000036239548,\n   'invType': None,\n   'latitude': 51.163987,\n   'longitude': 4.422594,\n   'optimizerNumber': None,\n   'softwareVersion': 'V100R001C00SPC125',\n   'stationCode': 'NE=36239547'},\n  {'devName': 'INV-HV2290204229',\n   'devTypeId': 38,\n   'esnCode': 'HV2290204229',\n   'id': 1000000036239549,\n   'invType': 'SUN2000-3.68KTL-L1',\n   'latitude': 51.163987,\n   'longitude': 4.422594,\n   'optimizerNumber': 4,\n   'softwareVersion': 'V200R001C00SPC130',\n   'stationCode': 'NE=36239547'},\n  {'devName': 'Meter-1',\n   'devTypeId': 47,\n   'esnCode': None,\n   'id': 1000000036239551,\n   'invType': None,\n   'latitude': 51.163987,\n   'longitude': 4.422594,\n   'optimizerNumber': None,\n   'softwareVersion': None,\n   'stationCode': 'NE=36239547'},\n  {'devName': 'Optimizer-1',\n   'devTypeId': 46,\n   'esnCode': None,\n   'id': 1000000036239593,\n   'invType': None,\n   'latitude': 51.163987,\n   'longitude': 4.422594,\n   'optimizerNumber': None,\n   'softwareVersion': None,\n   'stationCode': 'NE=36239547'},\n  {'devName': 'Optimizer-2',\n   'devTypeId': 46,\n   'esnCode': None,\n   'id': 1000000036239594,\n   'invType': None,\n   'latitude': 51.163987,\n   'longitude': 4.422594,\n   'optimizerNumber': None,\n   'softwareVersion': None,\n   'stationCode': 'NE=36239547'},\n  {'devName': 'Optimizer-3',\n   'devTypeId': 46,\n   'esnCode': None,\n   'id': 1000000036239595,\n   'invType': None,\n   'latitude': 51.163987,\n   'longitude': 4.422594,\n   'optimizerNumber': None,\n   'softwareVersion': None,\n   'stationCode': 'NE=36239547'},\n  {'devName': 'Optimizer-4',\n   'devTypeId': 46,\n   'esnCode': None,\n   'id': 1000000036239596,\n   'invType': None,\n   'latitude': 51.163987,\n   'longitude': 4.422594,\n   'optimizerNumber': None,\n   'softwareVersion': None,\n   'stationCode': 'NE=36239547'},\n  {'devName': 'Battery-1',\n   'devTypeId': 39,\n   'esnCode': None,\n   'id': 1000000036239550,\n   'invType': None,\n   'latitude': 51.163987,\n   'longitude': 4.422594,\n   'optimizerNumber': None,\n   'softwareVersion': None,\n   'stationCode': 'NE=36239547'}],\n 'failCode': 0,\n 'message': None,\n 'params': {'currentTime': 1685269514391, 'stationCodes': 'NE=36239547'},\n 'success': True}"
     },
     "execution_count": 4,
     "metadata": {},
     "output_type": "execute_result"
    }
   ],
   "source": [
    "sl"
   ],
   "metadata": {
    "collapsed": false
   }
  },
  {
   "cell_type": "code",
   "execution_count": 5,
   "outputs": [],
   "source": [
    "\n",
    "with PandasClient(user_name=user, system_code=password) as client:\n",
    "    battery = client.get_dev_kpi_day(dev_id=1000000036239550,dev_type_id=39,date=date)"
   ],
   "metadata": {
    "collapsed": false
   }
  },
  {
   "cell_type": "code",
   "execution_count": 6,
   "outputs": [
    {
     "data": {
      "text/plain": "{'data': [{'devId': 1000000036239550,\n   'collectTime': 1683846000000,\n   'dataItemMap': {'discharge_cap': 1.31,\n    'charge_cap': 0.46,\n    'charge_time': 1.083,\n    'discharge_time': 5.917},\n   'sn': 'null'},\n  {'devId': 1000000036239550,\n   'collectTime': 1683932400000,\n   'dataItemMap': {'discharge_cap': 0.33,\n    'charge_cap': 0.0,\n    'charge_time': 0.0,\n    'discharge_time': 0.0},\n   'sn': 'null'},\n  {'devId': 1000000036239550,\n   'collectTime': 1684018800000,\n   'dataItemMap': {'discharge_cap': 0.0,\n    'charge_cap': 0.0,\n    'charge_time': 0.0,\n    'discharge_time': 0.0},\n   'sn': 'null'},\n  {'devId': 1000000036239550,\n   'collectTime': 1684105200000,\n   'dataItemMap': {'discharge_cap': 0.0,\n    'charge_cap': 0.0,\n    'charge_time': 0.0,\n    'discharge_time': 0.0},\n   'sn': 'null'},\n  {'devId': 1000000036239550,\n   'collectTime': 1684191600000,\n   'dataItemMap': {'discharge_cap': 0.0,\n    'charge_cap': 0.0,\n    'charge_time': 0.0,\n    'discharge_time': 0.0},\n   'sn': 'null'},\n  {'devId': 1000000036239550,\n   'collectTime': 1684278000000,\n   'dataItemMap': {'discharge_cap': 0.0,\n    'charge_cap': 0.0,\n    'charge_time': 0.0,\n    'discharge_time': 0.0},\n   'sn': 'null'},\n  {'devId': 1000000036239550,\n   'collectTime': 1684364400000,\n   'dataItemMap': {'discharge_cap': 0.0,\n    'charge_cap': 0.0,\n    'charge_time': 0.0,\n    'discharge_time': 0.0},\n   'sn': 'null'},\n  {'devId': 1000000036239550,\n   'collectTime': 1684450800000,\n   'dataItemMap': {'discharge_cap': 0.0,\n    'charge_cap': 0.0,\n    'charge_time': 0.0,\n    'discharge_time': 0.0},\n   'sn': 'null'},\n  {'devId': 1000000036239550,\n   'collectTime': 1684537200000,\n   'dataItemMap': {'discharge_cap': 0.0,\n    'charge_cap': 0.0,\n    'charge_time': 0.0,\n    'discharge_time': 0.0},\n   'sn': 'null'},\n  {'devId': 1000000036239550,\n   'collectTime': 1684623600000,\n   'dataItemMap': {'discharge_cap': 0.0,\n    'charge_cap': 0.0,\n    'charge_time': 0.0,\n    'discharge_time': 0.0},\n   'sn': 'null'},\n  {'devId': 1000000036239550,\n   'collectTime': 1684710000000,\n   'dataItemMap': {'discharge_cap': 3.1,\n    'charge_cap': 4.34,\n    'charge_time': 4.833,\n    'discharge_time': 5.5},\n   'sn': 'null'},\n  {'devId': 1000000036239550,\n   'collectTime': 1684796400000,\n   'dataItemMap': {'discharge_cap': 3.56,\n    'charge_cap': 5.86,\n    'charge_time': 7.417,\n    'discharge_time': 8.833},\n   'sn': 'null'},\n  {'devId': 1000000036239550,\n   'collectTime': 1684882800000,\n   'dataItemMap': {'discharge_cap': 6.47,\n    'charge_cap': 6.32,\n    'charge_time': 9.5,\n    'discharge_time': 13.75},\n   'sn': 'null'},\n  {'devId': 1000000036239550,\n   'collectTime': 1684969200000,\n   'dataItemMap': {'discharge_cap': 3.62,\n    'charge_cap': 4.9,\n    'charge_time': 4.5,\n    'discharge_time': 12.083},\n   'sn': 'null'},\n  {'devId': 1000000036239550,\n   'collectTime': 1685055600000,\n   'dataItemMap': {'discharge_cap': 2.62,\n    'charge_cap': 3.13,\n    'charge_time': 3.417,\n    'discharge_time': 11.833},\n   'sn': 'null'},\n  {'devId': 1000000036239550,\n   'collectTime': 1685142000000,\n   'dataItemMap': {'discharge_cap': 3.93,\n    'charge_cap': 3.02,\n    'charge_time': 4.917,\n    'discharge_time': 13.667},\n   'sn': 'null'},\n  {'devId': 1000000036239550,\n   'collectTime': 1685228400000,\n   'dataItemMap': {'discharge_cap': 2.01,\n    'charge_cap': 1.28,\n    'charge_time': 2.333,\n    'discharge_time': 7.833},\n   'sn': 'null'}],\n 'failCode': 0,\n 'message': None,\n 'params': {'currentTime': 1685269514950,\n  'collectTime': 1685052000000,\n  'devIds': '1000000036239550',\n  'devTypeId': 39},\n 'success': True}"
     },
     "execution_count": 6,
     "metadata": {},
     "output_type": "execute_result"
    }
   ],
   "source": [
    "battery"
   ],
   "metadata": {
    "collapsed": false
   }
  },
  {
   "cell_type": "code",
   "execution_count": 7,
   "outputs": [
    {
     "data": {
      "text/plain": "{'data': [{'devId': 1000000036239550,\n   'dataItemMap': {'max_discharge_power': 2500.0,\n    'max_charge_power': 2500.0,\n    'battery_soh': 0.0,\n    'busbar_u': 453.6,\n    'discharge_cap': 2.02,\n    'ch_discharge_power': 0.0,\n    'run_state': 1,\n    'battery_soc': 100.0,\n    'ch_discharge_model': 4.0,\n    'charge_cap': 4.56,\n    'battery_status': 2.0},\n   'sn': 'null'}],\n 'failCode': 0,\n 'message': None,\n 'params': {'currentTime': 1685269515108,\n  'devIds': '1000000036239550',\n  'devTypeId': 39},\n 'success': True}"
     },
     "execution_count": 7,
     "metadata": {},
     "output_type": "execute_result"
    }
   ],
   "source": [
    "client.get_dev_kpi_real(dev_id=1000000036239550,dev_type_id=39)"
   ],
   "metadata": {
    "collapsed": false
   }
  },
  {
   "cell_type": "code",
   "execution_count": 7,
   "outputs": [],
   "source": [],
   "metadata": {
    "collapsed": false
   }
  }
 ],
 "metadata": {
  "kernelspec": {
   "display_name": "Python 3",
   "language": "python",
   "name": "python3"
  },
  "language_info": {
   "codemirror_mode": {
    "name": "ipython",
    "version": 2
   },
   "file_extension": ".py",
   "mimetype": "text/x-python",
   "name": "python",
   "nbconvert_exporter": "python",
   "pygments_lexer": "ipython2",
   "version": "2.7.6"
  }
 },
 "nbformat": 4,
 "nbformat_minor": 0
}
