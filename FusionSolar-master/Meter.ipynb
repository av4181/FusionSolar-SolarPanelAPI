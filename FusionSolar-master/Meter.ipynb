{
 "cells": [
  {
   "cell_type": "code",
   "execution_count": 1,
   "metadata": {
    "collapsed": true
   },
   "outputs": [
    {
     "name": "stdout",
     "output_type": "stream",
     "text": [
      "x-jso94aqrqljz4ac71cc9dehgg63yio9dikpgg8mkapeno4heupvseraoao6q2qnyjvml9dilhic9bxft1jvsuk1c9eek2os9ny2o44rz6qk546mouq1evyhgby87umpd\n"
     ]
    }
   ],
   "source": [
    "from fusionsolar import Client, PandasClient\n",
    "from _login import user, password\n",
    "import pandas as pd"
   ]
  },
  {
   "cell_type": "code",
   "execution_count": 2,
   "outputs": [],
   "source": [
    "date = pd.Timestamp('20230526', tz='Europe/Brussels')"
   ],
   "metadata": {
    "collapsed": false
   }
  },
  {
   "cell_type": "code",
   "execution_count": 3,
   "outputs": [
    {
     "ename": "HTTPError",
     "evalue": "500 Server Error:  for url: https://eu5.fusionsolar.huawei.com/thirdData/getDevKpiDay",
     "output_type": "error",
     "traceback": [
      "\u001B[1;31m---------------------------------------------------------------------------\u001B[0m",
      "\u001B[1;31mHTTPError\u001B[0m                                 Traceback (most recent call last)",
      "Cell \u001B[1;32mIn[3], line 2\u001B[0m\n\u001B[0;32m      1\u001B[0m \u001B[38;5;28;01mwith\u001B[39;00m PandasClient(user_name\u001B[38;5;241m=\u001B[39muser, system_code\u001B[38;5;241m=\u001B[39mpassword) \u001B[38;5;28;01mas\u001B[39;00m client:\n\u001B[1;32m----> 2\u001B[0m     battery \u001B[38;5;241m=\u001B[39m \u001B[43mclient\u001B[49m\u001B[38;5;241;43m.\u001B[39;49m\u001B[43mget_dev_kpi_day\u001B[49m\u001B[43m(\u001B[49m\u001B[43mdev_id\u001B[49m\u001B[38;5;241;43m=\u001B[39;49m\u001B[38;5;241;43m1000000036239551\u001B[39;49m\u001B[43m,\u001B[49m\u001B[43mdev_type_id\u001B[49m\u001B[38;5;241;43m=\u001B[39;49m\u001B[38;5;241;43m47\u001B[39;49m\u001B[43m,\u001B[49m\u001B[43mdate\u001B[49m\u001B[38;5;241;43m=\u001B[39;49m\u001B[43mdate\u001B[49m\u001B[43m)\u001B[49m\n",
      "File \u001B[1;32mC:\\ANDREAS\\PRIVE\\FusionSolar-master\\FusionSolar-master\\fusionsolar\\client.py:205\u001B[0m, in \u001B[0;36mClient.get_dev_kpi_day\u001B[1;34m(self, dev_id, dev_type_id, date)\u001B[0m\n\u001B[0;32m    202\u001B[0m \u001B[38;5;28;01mdef\u001B[39;00m \u001B[38;5;21mget_dev_kpi_day\u001B[39m(\u001B[38;5;28mself\u001B[39m, dev_id: \u001B[38;5;28mstr\u001B[39m, dev_type_id: \u001B[38;5;28mint\u001B[39m,\n\u001B[0;32m    203\u001B[0m                     date: pd\u001B[38;5;241m.\u001B[39mTimestamp) \u001B[38;5;241m-\u001B[39m\u001B[38;5;241m>\u001B[39m Dict:\n\u001B[0;32m    204\u001B[0m     time \u001B[38;5;241m=\u001B[39m \u001B[38;5;28mint\u001B[39m(date\u001B[38;5;241m.\u001B[39mtimestamp()) \u001B[38;5;241m*\u001B[39m \u001B[38;5;241m1000\u001B[39m\n\u001B[1;32m--> 205\u001B[0m     \u001B[38;5;28;01mreturn\u001B[39;00m \u001B[38;5;28;43mself\u001B[39;49m\u001B[38;5;241;43m.\u001B[39;49m\u001B[43m_request\u001B[49m\u001B[43m(\u001B[49m\u001B[38;5;124;43m\"\u001B[39;49m\u001B[38;5;124;43mgetDevKpiDay\u001B[39;49m\u001B[38;5;124;43m\"\u001B[39;49m\u001B[43m,\u001B[49m\n\u001B[0;32m    206\u001B[0m \u001B[43m                         \u001B[49m\u001B[43m{\u001B[49m\u001B[38;5;124;43m'\u001B[39;49m\u001B[38;5;124;43mdevIds\u001B[39;49m\u001B[38;5;124;43m'\u001B[39;49m\u001B[43m:\u001B[49m\u001B[43m \u001B[49m\u001B[43mdev_id\u001B[49m\u001B[43m,\u001B[49m\u001B[43m \u001B[49m\u001B[38;5;124;43m'\u001B[39;49m\u001B[38;5;124;43mdevTypeId\u001B[39;49m\u001B[38;5;124;43m'\u001B[39;49m\u001B[43m:\u001B[49m\u001B[43m \u001B[49m\u001B[43mdev_type_id\u001B[49m\u001B[43m,\u001B[49m\n\u001B[0;32m    207\u001B[0m \u001B[43m                          \u001B[49m\u001B[38;5;124;43m'\u001B[39;49m\u001B[38;5;124;43mcollectTime\u001B[39;49m\u001B[38;5;124;43m'\u001B[39;49m\u001B[43m:\u001B[49m\u001B[43m \u001B[49m\u001B[43mtime\u001B[49m\u001B[43m}\u001B[49m\u001B[43m)\u001B[49m\n",
      "File \u001B[1;32mC:\\ANDREAS\\PRIVE\\FusionSolar-master\\FusionSolar-master\\fusionsolar\\client.py:53\u001B[0m, in \u001B[0;36mthrottle_retry.<locals>.wrapper\u001B[1;34m(*args, **kwargs)\u001B[0m\n\u001B[0;32m     51\u001B[0m \u001B[38;5;28mself\u001B[39m \u001B[38;5;241m=\u001B[39m args[\u001B[38;5;241m0\u001B[39m]\n\u001B[0;32m     52\u001B[0m \u001B[38;5;28;01mtry\u001B[39;00m:\n\u001B[1;32m---> 53\u001B[0m     \u001B[38;5;28;01mreturn\u001B[39;00m \u001B[43mfunc\u001B[49m\u001B[43m(\u001B[49m\u001B[38;5;241;43m*\u001B[39;49m\u001B[43margs\u001B[49m\u001B[43m,\u001B[49m\u001B[43m \u001B[49m\u001B[38;5;241;43m*\u001B[39;49m\u001B[38;5;241;43m*\u001B[39;49m\u001B[43mkwargs\u001B[49m\u001B[43m)\u001B[49m\n\u001B[0;32m     54\u001B[0m \u001B[38;5;28;01mexcept\u001B[39;00m HTTPError407 \u001B[38;5;28;01mas\u001B[39;00m e:\n\u001B[0;32m     55\u001B[0m     \u001B[38;5;28;01mfor\u001B[39;00m i \u001B[38;5;129;01min\u001B[39;00m \u001B[38;5;28mrange\u001B[39m(\u001B[38;5;241m1\u001B[39m, \u001B[38;5;28mself\u001B[39m\u001B[38;5;241m.\u001B[39mmax_retry \u001B[38;5;241m+\u001B[39m \u001B[38;5;241m1\u001B[39m):\n",
      "File \u001B[1;32mC:\\ANDREAS\\PRIVE\\FusionSolar-master\\FusionSolar-master\\fusionsolar\\client.py:39\u001B[0m, in \u001B[0;36mauthenticated.<locals>.wrapper\u001B[1;34m(*args, **kwargs)\u001B[0m\n\u001B[0;32m     37\u001B[0m \u001B[38;5;28;01mif\u001B[39;00m \u001B[38;5;28mself\u001B[39m\u001B[38;5;241m.\u001B[39mtoken_expiration_time \u001B[38;5;241m<\u001B[39m\u001B[38;5;241m=\u001B[39m pd\u001B[38;5;241m.\u001B[39mTimestamp\u001B[38;5;241m.\u001B[39mutcnow()\u001B[38;5;241m.\u001B[39mtimestamp():\n\u001B[0;32m     38\u001B[0m     \u001B[38;5;28mself\u001B[39m\u001B[38;5;241m.\u001B[39mlogin()\n\u001B[1;32m---> 39\u001B[0m \u001B[38;5;28;01mreturn\u001B[39;00m \u001B[43mfunc\u001B[49m\u001B[43m(\u001B[49m\u001B[38;5;241;43m*\u001B[39;49m\u001B[43margs\u001B[49m\u001B[43m,\u001B[49m\u001B[43m \u001B[49m\u001B[38;5;241;43m*\u001B[39;49m\u001B[38;5;241;43m*\u001B[39;49m\u001B[43mkwargs\u001B[49m\u001B[43m)\u001B[49m\n",
      "File \u001B[1;32mC:\\ANDREAS\\PRIVE\\FusionSolar-master\\FusionSolar-master\\fusionsolar\\client.py:146\u001B[0m, in \u001B[0;36mClient._request\u001B[1;34m(self, function, data)\u001B[0m\n\u001B[0;32m    144\u001B[0m url \u001B[38;5;241m=\u001B[39m \u001B[38;5;124mf\u001B[39m\u001B[38;5;124m'\u001B[39m\u001B[38;5;132;01m{\u001B[39;00m\u001B[38;5;28mself\u001B[39m\u001B[38;5;241m.\u001B[39mbase_url\u001B[38;5;132;01m}\u001B[39;00m\u001B[38;5;124m/\u001B[39m\u001B[38;5;132;01m{\u001B[39;00mfunction\u001B[38;5;132;01m}\u001B[39;00m\u001B[38;5;124m'\u001B[39m\n\u001B[0;32m    145\u001B[0m r \u001B[38;5;241m=\u001B[39m \u001B[38;5;28mself\u001B[39m\u001B[38;5;241m.\u001B[39msession\u001B[38;5;241m.\u001B[39mpost(url\u001B[38;5;241m=\u001B[39murl, json\u001B[38;5;241m=\u001B[39mdata)\n\u001B[1;32m--> 146\u001B[0m \u001B[38;5;28;43mself\u001B[39;49m\u001B[38;5;241;43m.\u001B[39;49m\u001B[43m_validate_response\u001B[49m\u001B[43m(\u001B[49m\u001B[43mr\u001B[49m\u001B[43m)\u001B[49m\n\u001B[0;32m    147\u001B[0m \u001B[38;5;28;01mreturn\u001B[39;00m r\u001B[38;5;241m.\u001B[39mjson()\n",
      "File \u001B[1;32mC:\\ANDREAS\\PRIVE\\FusionSolar-master\\FusionSolar-master\\fusionsolar\\client.py:115\u001B[0m, in \u001B[0;36mClient._validate_response\u001B[1;34m(response)\u001B[0m\n\u001B[0;32m    113\u001B[0m \u001B[38;5;129m@staticmethod\u001B[39m\n\u001B[0;32m    114\u001B[0m \u001B[38;5;28;01mdef\u001B[39;00m \u001B[38;5;21m_validate_response\u001B[39m(response: requests\u001B[38;5;241m.\u001B[39mResponse) \u001B[38;5;241m-\u001B[39m\u001B[38;5;241m>\u001B[39m \u001B[38;5;28mbool\u001B[39m:\n\u001B[1;32m--> 115\u001B[0m     \u001B[43mresponse\u001B[49m\u001B[38;5;241;43m.\u001B[39;49m\u001B[43mraise_for_status\u001B[49m\u001B[43m(\u001B[49m\u001B[43m)\u001B[49m\n\u001B[0;32m    116\u001B[0m     body \u001B[38;5;241m=\u001B[39m response\u001B[38;5;241m.\u001B[39mjson()\n\u001B[0;32m    117\u001B[0m     success \u001B[38;5;241m=\u001B[39m body\u001B[38;5;241m.\u001B[39mget(\u001B[38;5;124m'\u001B[39m\u001B[38;5;124msuccess\u001B[39m\u001B[38;5;124m'\u001B[39m, \u001B[38;5;28;01mFalse\u001B[39;00m)\n",
      "File \u001B[1;32mC:\\ANDREAS\\PRIVE\\FusionSolar-master\\venv\\Lib\\site-packages\\requests\\models.py:1021\u001B[0m, in \u001B[0;36mResponse.raise_for_status\u001B[1;34m(self)\u001B[0m\n\u001B[0;32m   1016\u001B[0m     http_error_msg \u001B[38;5;241m=\u001B[39m (\n\u001B[0;32m   1017\u001B[0m         \u001B[38;5;124mf\u001B[39m\u001B[38;5;124m\"\u001B[39m\u001B[38;5;132;01m{\u001B[39;00m\u001B[38;5;28mself\u001B[39m\u001B[38;5;241m.\u001B[39mstatus_code\u001B[38;5;132;01m}\u001B[39;00m\u001B[38;5;124m Server Error: \u001B[39m\u001B[38;5;132;01m{\u001B[39;00mreason\u001B[38;5;132;01m}\u001B[39;00m\u001B[38;5;124m for url: \u001B[39m\u001B[38;5;132;01m{\u001B[39;00m\u001B[38;5;28mself\u001B[39m\u001B[38;5;241m.\u001B[39murl\u001B[38;5;132;01m}\u001B[39;00m\u001B[38;5;124m\"\u001B[39m\n\u001B[0;32m   1018\u001B[0m     )\n\u001B[0;32m   1020\u001B[0m \u001B[38;5;28;01mif\u001B[39;00m http_error_msg:\n\u001B[1;32m-> 1021\u001B[0m     \u001B[38;5;28;01mraise\u001B[39;00m HTTPError(http_error_msg, response\u001B[38;5;241m=\u001B[39m\u001B[38;5;28mself\u001B[39m)\n",
      "\u001B[1;31mHTTPError\u001B[0m: 500 Server Error:  for url: https://eu5.fusionsolar.huawei.com/thirdData/getDevKpiDay"
     ]
    }
   ],
   "source": [
    "with PandasClient(user_name=user, system_code=password) as client:\n",
    "    battery = client.get_dev_kpi_day(dev_id=1000000036239551,dev_type_id=47,date=date)"
   ],
   "metadata": {
    "collapsed": false
   }
  },
  {
   "cell_type": "code",
   "execution_count": null,
   "outputs": [],
   "source": [],
   "metadata": {
    "collapsed": false
   }
  }
 ],
 "metadata": {
  "kernelspec": {
   "display_name": "Python 3",
   "language": "python",
   "name": "python3"
  },
  "language_info": {
   "codemirror_mode": {
    "name": "ipython",
    "version": 2
   },
   "file_extension": ".py",
   "mimetype": "text/x-python",
   "name": "python",
   "nbconvert_exporter": "python",
   "pygments_lexer": "ipython2",
   "version": "2.7.6"
  }
 },
 "nbformat": 4,
 "nbformat_minor": 0
}
